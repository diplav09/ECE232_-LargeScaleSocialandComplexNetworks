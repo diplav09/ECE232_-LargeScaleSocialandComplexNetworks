{
  "nbformat": 4,
  "nbformat_minor": 0,
  "metadata": {
    "colab": {
      "name": "scratch_cora_gcn_ee232.ipynb",
      "provenance": [],
      "collapsed_sections": []
    },
    "kernelspec": {
      "name": "python3",
      "display_name": "Python 3"
    },
    "language_info": {
      "name": "python"
    }
  },
  "cells": [
    {
      "cell_type": "code",
      "execution_count": 7,
      "metadata": {
        "colab": {
          "base_uri": "https://localhost:8080/"
        },
        "id": "nbRz4Bpylo-d",
        "outputId": "693be4e3-d747-4aea-8e64-b0ee2a4711cb"
      },
      "outputs": [
        {
          "output_type": "stream",
          "name": "stdout",
          "text": [
            "Collecting spektral==0.6.2\n",
            "  Downloading spektral-0.6.2-py3-none-any.whl (95 kB)\n",
            "\u001b[?25l\r\u001b[K     |███▍                            | 10 kB 20.5 MB/s eta 0:00:01\r\u001b[K     |██████▉                         | 20 kB 15.9 MB/s eta 0:00:01\r\u001b[K     |██████████▎                     | 30 kB 10.3 MB/s eta 0:00:01\r\u001b[K     |█████████████▊                  | 40 kB 9.5 MB/s eta 0:00:01\r\u001b[K     |█████████████████▏              | 51 kB 7.4 MB/s eta 0:00:01\r\u001b[K     |████████████████████▋           | 61 kB 8.5 MB/s eta 0:00:01\r\u001b[K     |████████████████████████        | 71 kB 9.2 MB/s eta 0:00:01\r\u001b[K     |███████████████████████████▌    | 81 kB 9.0 MB/s eta 0:00:01\r\u001b[K     |███████████████████████████████ | 92 kB 9.8 MB/s eta 0:00:01\r\u001b[K     |████████████████████████████████| 95 kB 2.8 MB/s \n",
            "\u001b[?25hRequirement already satisfied: scikit-learn in /usr/local/lib/python3.7/dist-packages (from spektral==0.6.2) (1.0.2)\n",
            "Requirement already satisfied: networkx in /usr/local/lib/python3.7/dist-packages (from spektral==0.6.2) (2.6.3)\n",
            "Requirement already satisfied: requests in /usr/local/lib/python3.7/dist-packages (from spektral==0.6.2) (2.23.0)\n",
            "Requirement already satisfied: tensorflow>=2.1.0 in /usr/local/lib/python3.7/dist-packages (from spektral==0.6.2) (2.8.0)\n",
            "Requirement already satisfied: numpy in /usr/local/lib/python3.7/dist-packages (from spektral==0.6.2) (1.21.6)\n",
            "Requirement already satisfied: scipy in /usr/local/lib/python3.7/dist-packages (from spektral==0.6.2) (1.4.1)\n",
            "Requirement already satisfied: pandas in /usr/local/lib/python3.7/dist-packages (from spektral==0.6.2) (1.3.5)\n",
            "Requirement already satisfied: joblib in /usr/local/lib/python3.7/dist-packages (from spektral==0.6.2) (1.1.0)\n",
            "Requirement already satisfied: lxml in /usr/local/lib/python3.7/dist-packages (from spektral==0.6.2) (4.2.6)\n",
            "Requirement already satisfied: astunparse>=1.6.0 in /usr/local/lib/python3.7/dist-packages (from tensorflow>=2.1.0->spektral==0.6.2) (1.6.3)\n",
            "Requirement already satisfied: flatbuffers>=1.12 in /usr/local/lib/python3.7/dist-packages (from tensorflow>=2.1.0->spektral==0.6.2) (2.0)\n",
            "Requirement already satisfied: opt-einsum>=2.3.2 in /usr/local/lib/python3.7/dist-packages (from tensorflow>=2.1.0->spektral==0.6.2) (3.3.0)\n",
            "Requirement already satisfied: termcolor>=1.1.0 in /usr/local/lib/python3.7/dist-packages (from tensorflow>=2.1.0->spektral==0.6.2) (1.1.0)\n",
            "Requirement already satisfied: tf-estimator-nightly==2.8.0.dev2021122109 in /usr/local/lib/python3.7/dist-packages (from tensorflow>=2.1.0->spektral==0.6.2) (2.8.0.dev2021122109)\n",
            "Requirement already satisfied: keras<2.9,>=2.8.0rc0 in /usr/local/lib/python3.7/dist-packages (from tensorflow>=2.1.0->spektral==0.6.2) (2.8.0)\n",
            "Requirement already satisfied: protobuf>=3.9.2 in /usr/local/lib/python3.7/dist-packages (from tensorflow>=2.1.0->spektral==0.6.2) (3.17.3)\n",
            "Requirement already satisfied: setuptools in /usr/local/lib/python3.7/dist-packages (from tensorflow>=2.1.0->spektral==0.6.2) (57.4.0)\n",
            "Requirement already satisfied: libclang>=9.0.1 in /usr/local/lib/python3.7/dist-packages (from tensorflow>=2.1.0->spektral==0.6.2) (14.0.1)\n",
            "Requirement already satisfied: tensorboard<2.9,>=2.8 in /usr/local/lib/python3.7/dist-packages (from tensorflow>=2.1.0->spektral==0.6.2) (2.8.0)\n",
            "Requirement already satisfied: grpcio<2.0,>=1.24.3 in /usr/local/lib/python3.7/dist-packages (from tensorflow>=2.1.0->spektral==0.6.2) (1.44.0)\n",
            "Requirement already satisfied: gast>=0.2.1 in /usr/local/lib/python3.7/dist-packages (from tensorflow>=2.1.0->spektral==0.6.2) (0.5.3)\n",
            "Requirement already satisfied: typing-extensions>=3.6.6 in /usr/local/lib/python3.7/dist-packages (from tensorflow>=2.1.0->spektral==0.6.2) (4.2.0)\n",
            "Requirement already satisfied: keras-preprocessing>=1.1.1 in /usr/local/lib/python3.7/dist-packages (from tensorflow>=2.1.0->spektral==0.6.2) (1.1.2)\n",
            "Requirement already satisfied: six>=1.12.0 in /usr/local/lib/python3.7/dist-packages (from tensorflow>=2.1.0->spektral==0.6.2) (1.15.0)\n",
            "Requirement already satisfied: absl-py>=0.4.0 in /usr/local/lib/python3.7/dist-packages (from tensorflow>=2.1.0->spektral==0.6.2) (1.0.0)\n",
            "Requirement already satisfied: tensorflow-io-gcs-filesystem>=0.23.1 in /usr/local/lib/python3.7/dist-packages (from tensorflow>=2.1.0->spektral==0.6.2) (0.25.0)\n",
            "Requirement already satisfied: wrapt>=1.11.0 in /usr/local/lib/python3.7/dist-packages (from tensorflow>=2.1.0->spektral==0.6.2) (1.14.0)\n",
            "Requirement already satisfied: h5py>=2.9.0 in /usr/local/lib/python3.7/dist-packages (from tensorflow>=2.1.0->spektral==0.6.2) (3.1.0)\n",
            "Requirement already satisfied: google-pasta>=0.1.1 in /usr/local/lib/python3.7/dist-packages (from tensorflow>=2.1.0->spektral==0.6.2) (0.2.0)\n",
            "Requirement already satisfied: wheel<1.0,>=0.23.0 in /usr/local/lib/python3.7/dist-packages (from astunparse>=1.6.0->tensorflow>=2.1.0->spektral==0.6.2) (0.37.1)\n",
            "Requirement already satisfied: cached-property in /usr/local/lib/python3.7/dist-packages (from h5py>=2.9.0->tensorflow>=2.1.0->spektral==0.6.2) (1.5.2)\n",
            "Requirement already satisfied: tensorboard-plugin-wit>=1.6.0 in /usr/local/lib/python3.7/dist-packages (from tensorboard<2.9,>=2.8->tensorflow>=2.1.0->spektral==0.6.2) (1.8.1)\n",
            "Requirement already satisfied: google-auth-oauthlib<0.5,>=0.4.1 in /usr/local/lib/python3.7/dist-packages (from tensorboard<2.9,>=2.8->tensorflow>=2.1.0->spektral==0.6.2) (0.4.6)\n",
            "Requirement already satisfied: markdown>=2.6.8 in /usr/local/lib/python3.7/dist-packages (from tensorboard<2.9,>=2.8->tensorflow>=2.1.0->spektral==0.6.2) (3.3.6)\n",
            "Requirement already satisfied: google-auth<3,>=1.6.3 in /usr/local/lib/python3.7/dist-packages (from tensorboard<2.9,>=2.8->tensorflow>=2.1.0->spektral==0.6.2) (1.35.0)\n",
            "Requirement already satisfied: tensorboard-data-server<0.7.0,>=0.6.0 in /usr/local/lib/python3.7/dist-packages (from tensorboard<2.9,>=2.8->tensorflow>=2.1.0->spektral==0.6.2) (0.6.1)\n",
            "Requirement already satisfied: werkzeug>=0.11.15 in /usr/local/lib/python3.7/dist-packages (from tensorboard<2.9,>=2.8->tensorflow>=2.1.0->spektral==0.6.2) (1.0.1)\n",
            "Requirement already satisfied: cachetools<5.0,>=2.0.0 in /usr/local/lib/python3.7/dist-packages (from google-auth<3,>=1.6.3->tensorboard<2.9,>=2.8->tensorflow>=2.1.0->spektral==0.6.2) (4.2.4)\n",
            "Requirement already satisfied: pyasn1-modules>=0.2.1 in /usr/local/lib/python3.7/dist-packages (from google-auth<3,>=1.6.3->tensorboard<2.9,>=2.8->tensorflow>=2.1.0->spektral==0.6.2) (0.2.8)\n",
            "Requirement already satisfied: rsa<5,>=3.1.4 in /usr/local/lib/python3.7/dist-packages (from google-auth<3,>=1.6.3->tensorboard<2.9,>=2.8->tensorflow>=2.1.0->spektral==0.6.2) (4.8)\n",
            "Requirement already satisfied: requests-oauthlib>=0.7.0 in /usr/local/lib/python3.7/dist-packages (from google-auth-oauthlib<0.5,>=0.4.1->tensorboard<2.9,>=2.8->tensorflow>=2.1.0->spektral==0.6.2) (1.3.1)\n",
            "Requirement already satisfied: importlib-metadata>=4.4 in /usr/local/lib/python3.7/dist-packages (from markdown>=2.6.8->tensorboard<2.9,>=2.8->tensorflow>=2.1.0->spektral==0.6.2) (4.11.3)\n",
            "Requirement already satisfied: zipp>=0.5 in /usr/local/lib/python3.7/dist-packages (from importlib-metadata>=4.4->markdown>=2.6.8->tensorboard<2.9,>=2.8->tensorflow>=2.1.0->spektral==0.6.2) (3.8.0)\n",
            "Requirement already satisfied: pyasn1<0.5.0,>=0.4.6 in /usr/local/lib/python3.7/dist-packages (from pyasn1-modules>=0.2.1->google-auth<3,>=1.6.3->tensorboard<2.9,>=2.8->tensorflow>=2.1.0->spektral==0.6.2) (0.4.8)\n",
            "Requirement already satisfied: urllib3!=1.25.0,!=1.25.1,<1.26,>=1.21.1 in /usr/local/lib/python3.7/dist-packages (from requests->spektral==0.6.2) (1.24.3)\n",
            "Requirement already satisfied: idna<3,>=2.5 in /usr/local/lib/python3.7/dist-packages (from requests->spektral==0.6.2) (2.10)\n",
            "Requirement already satisfied: chardet<4,>=3.0.2 in /usr/local/lib/python3.7/dist-packages (from requests->spektral==0.6.2) (3.0.4)\n",
            "Requirement already satisfied: certifi>=2017.4.17 in /usr/local/lib/python3.7/dist-packages (from requests->spektral==0.6.2) (2021.10.8)\n",
            "Requirement already satisfied: oauthlib>=3.0.0 in /usr/local/lib/python3.7/dist-packages (from requests-oauthlib>=0.7.0->google-auth-oauthlib<0.5,>=0.4.1->tensorboard<2.9,>=2.8->tensorflow>=2.1.0->spektral==0.6.2) (3.2.0)\n",
            "Requirement already satisfied: pytz>=2017.3 in /usr/local/lib/python3.7/dist-packages (from pandas->spektral==0.6.2) (2022.1)\n",
            "Requirement already satisfied: python-dateutil>=2.7.3 in /usr/local/lib/python3.7/dist-packages (from pandas->spektral==0.6.2) (2.8.2)\n",
            "Requirement already satisfied: threadpoolctl>=2.0.0 in /usr/local/lib/python3.7/dist-packages (from scikit-learn->spektral==0.6.2) (3.1.0)\n",
            "Installing collected packages: spektral\n",
            "  Attempting uninstall: spektral\n",
            "    Found existing installation: spektral 0.6.0\n",
            "    Uninstalling spektral-0.6.0:\n",
            "      Successfully uninstalled spektral-0.6.0\n",
            "Successfully installed spektral-0.6.2\n",
            "Requirement already satisfied: keras in /usr/local/lib/python3.7/dist-packages (2.8.0)\n",
            "Requirement already satisfied: tensorflow in /usr/local/lib/python3.7/dist-packages (2.8.0)\n",
            "Requirement already satisfied: tf-estimator-nightly==2.8.0.dev2021122109 in /usr/local/lib/python3.7/dist-packages (from tensorflow) (2.8.0.dev2021122109)\n",
            "Requirement already satisfied: h5py>=2.9.0 in /usr/local/lib/python3.7/dist-packages (from tensorflow) (3.1.0)\n",
            "Requirement already satisfied: typing-extensions>=3.6.6 in /usr/local/lib/python3.7/dist-packages (from tensorflow) (4.2.0)\n",
            "Requirement already satisfied: google-pasta>=0.1.1 in /usr/local/lib/python3.7/dist-packages (from tensorflow) (0.2.0)\n",
            "Requirement already satisfied: wrapt>=1.11.0 in /usr/local/lib/python3.7/dist-packages (from tensorflow) (1.14.0)\n",
            "Requirement already satisfied: tensorflow-io-gcs-filesystem>=0.23.1 in /usr/local/lib/python3.7/dist-packages (from tensorflow) (0.25.0)\n",
            "Requirement already satisfied: gast>=0.2.1 in /usr/local/lib/python3.7/dist-packages (from tensorflow) (0.5.3)\n",
            "Requirement already satisfied: grpcio<2.0,>=1.24.3 in /usr/local/lib/python3.7/dist-packages (from tensorflow) (1.44.0)\n",
            "Requirement already satisfied: six>=1.12.0 in /usr/local/lib/python3.7/dist-packages (from tensorflow) (1.15.0)\n",
            "Requirement already satisfied: astunparse>=1.6.0 in /usr/local/lib/python3.7/dist-packages (from tensorflow) (1.6.3)\n",
            "Requirement already satisfied: libclang>=9.0.1 in /usr/local/lib/python3.7/dist-packages (from tensorflow) (14.0.1)\n",
            "Requirement already satisfied: keras<2.9,>=2.8.0rc0 in /usr/local/lib/python3.7/dist-packages (from tensorflow) (2.8.0)\n",
            "Requirement already satisfied: tensorboard<2.9,>=2.8 in /usr/local/lib/python3.7/dist-packages (from tensorflow) (2.8.0)\n",
            "Requirement already satisfied: termcolor>=1.1.0 in /usr/local/lib/python3.7/dist-packages (from tensorflow) (1.1.0)\n",
            "Requirement already satisfied: setuptools in /usr/local/lib/python3.7/dist-packages (from tensorflow) (57.4.0)\n",
            "Requirement already satisfied: keras-preprocessing>=1.1.1 in /usr/local/lib/python3.7/dist-packages (from tensorflow) (1.1.2)\n",
            "Requirement already satisfied: numpy>=1.20 in /usr/local/lib/python3.7/dist-packages (from tensorflow) (1.21.6)\n",
            "Requirement already satisfied: protobuf>=3.9.2 in /usr/local/lib/python3.7/dist-packages (from tensorflow) (3.17.3)\n",
            "Requirement already satisfied: absl-py>=0.4.0 in /usr/local/lib/python3.7/dist-packages (from tensorflow) (1.0.0)\n",
            "Requirement already satisfied: flatbuffers>=1.12 in /usr/local/lib/python3.7/dist-packages (from tensorflow) (2.0)\n",
            "Requirement already satisfied: opt-einsum>=2.3.2 in /usr/local/lib/python3.7/dist-packages (from tensorflow) (3.3.0)\n",
            "Requirement already satisfied: wheel<1.0,>=0.23.0 in /usr/local/lib/python3.7/dist-packages (from astunparse>=1.6.0->tensorflow) (0.37.1)\n",
            "Requirement already satisfied: cached-property in /usr/local/lib/python3.7/dist-packages (from h5py>=2.9.0->tensorflow) (1.5.2)\n",
            "Requirement already satisfied: tensorboard-data-server<0.7.0,>=0.6.0 in /usr/local/lib/python3.7/dist-packages (from tensorboard<2.9,>=2.8->tensorflow) (0.6.1)\n",
            "Requirement already satisfied: requests<3,>=2.21.0 in /usr/local/lib/python3.7/dist-packages (from tensorboard<2.9,>=2.8->tensorflow) (2.23.0)\n",
            "Requirement already satisfied: google-auth<3,>=1.6.3 in /usr/local/lib/python3.7/dist-packages (from tensorboard<2.9,>=2.8->tensorflow) (1.35.0)\n",
            "Requirement already satisfied: tensorboard-plugin-wit>=1.6.0 in /usr/local/lib/python3.7/dist-packages (from tensorboard<2.9,>=2.8->tensorflow) (1.8.1)\n",
            "Requirement already satisfied: google-auth-oauthlib<0.5,>=0.4.1 in /usr/local/lib/python3.7/dist-packages (from tensorboard<2.9,>=2.8->tensorflow) (0.4.6)\n",
            "Requirement already satisfied: markdown>=2.6.8 in /usr/local/lib/python3.7/dist-packages (from tensorboard<2.9,>=2.8->tensorflow) (3.3.6)\n",
            "Requirement already satisfied: werkzeug>=0.11.15 in /usr/local/lib/python3.7/dist-packages (from tensorboard<2.9,>=2.8->tensorflow) (1.0.1)\n",
            "Requirement already satisfied: rsa<5,>=3.1.4 in /usr/local/lib/python3.7/dist-packages (from google-auth<3,>=1.6.3->tensorboard<2.9,>=2.8->tensorflow) (4.8)\n",
            "Requirement already satisfied: pyasn1-modules>=0.2.1 in /usr/local/lib/python3.7/dist-packages (from google-auth<3,>=1.6.3->tensorboard<2.9,>=2.8->tensorflow) (0.2.8)\n",
            "Requirement already satisfied: cachetools<5.0,>=2.0.0 in /usr/local/lib/python3.7/dist-packages (from google-auth<3,>=1.6.3->tensorboard<2.9,>=2.8->tensorflow) (4.2.4)\n",
            "Requirement already satisfied: requests-oauthlib>=0.7.0 in /usr/local/lib/python3.7/dist-packages (from google-auth-oauthlib<0.5,>=0.4.1->tensorboard<2.9,>=2.8->tensorflow) (1.3.1)\n",
            "Requirement already satisfied: importlib-metadata>=4.4 in /usr/local/lib/python3.7/dist-packages (from markdown>=2.6.8->tensorboard<2.9,>=2.8->tensorflow) (4.11.3)\n",
            "Requirement already satisfied: zipp>=0.5 in /usr/local/lib/python3.7/dist-packages (from importlib-metadata>=4.4->markdown>=2.6.8->tensorboard<2.9,>=2.8->tensorflow) (3.8.0)\n",
            "Requirement already satisfied: pyasn1<0.5.0,>=0.4.6 in /usr/local/lib/python3.7/dist-packages (from pyasn1-modules>=0.2.1->google-auth<3,>=1.6.3->tensorboard<2.9,>=2.8->tensorflow) (0.4.8)\n",
            "Requirement already satisfied: chardet<4,>=3.0.2 in /usr/local/lib/python3.7/dist-packages (from requests<3,>=2.21.0->tensorboard<2.9,>=2.8->tensorflow) (3.0.4)\n",
            "Requirement already satisfied: certifi>=2017.4.17 in /usr/local/lib/python3.7/dist-packages (from requests<3,>=2.21.0->tensorboard<2.9,>=2.8->tensorflow) (2021.10.8)\n",
            "Requirement already satisfied: idna<3,>=2.5 in /usr/local/lib/python3.7/dist-packages (from requests<3,>=2.21.0->tensorboard<2.9,>=2.8->tensorflow) (2.10)\n",
            "Requirement already satisfied: urllib3!=1.25.0,!=1.25.1,<1.26,>=1.21.1 in /usr/local/lib/python3.7/dist-packages (from requests<3,>=2.21.0->tensorboard<2.9,>=2.8->tensorflow) (1.24.3)\n",
            "Requirement already satisfied: oauthlib>=3.0.0 in /usr/local/lib/python3.7/dist-packages (from requests-oauthlib>=0.7.0->google-auth-oauthlib<0.5,>=0.4.1->tensorboard<2.9,>=2.8->tensorflow) (3.2.0)\n"
          ]
        }
      ],
      "source": [
        "!pip install spektral==0.6.2 #feel free to use any other library of your choice\n",
        "!pip install keras\n",
        "!pip install tensorflow"
      ]
    },
    {
      "cell_type": "code",
      "source": [
        "import numpy as np\n",
        "import tensorflow as tf\n",
        "import spektral\n",
        "tf.random.set_seed(9)"
      ],
      "metadata": {
        "id": "DdC94jDivdLT"
      },
      "execution_count": 8,
      "outputs": []
    },
    {
      "cell_type": "code",
      "source": [
        "adj, features,labels, train_mask, validation_mask, test_mask = spektral.datasets.citation.load_data(dataset_name='cora')"
      ],
      "metadata": {
        "colab": {
          "base_uri": "https://localhost:8080/"
        },
        "id": "vUqwY5zUvxNV",
        "outputId": "02752e5b-dbca-4e39-96cb-48092261773c"
      },
      "execution_count": 9,
      "outputs": [
        {
          "output_type": "stream",
          "name": "stdout",
          "text": [
            "Downloading corafrom https://github.com/tkipf/gcn/raw/master/gcn/data/\n",
            "Loading cora dataset\n",
            "Pre-processing node features\n"
          ]
        }
      ]
    },
    {
      "cell_type": "code",
      "source": [
        "#convert feature from sparse to dense \n",
        "features = features.todense()\n",
        "adj = adj.todense() + np.eye(adj.shape[0])\n",
        "# features = tf.convert_to_tensor(features, dtype=tf.float32)\n",
        "# adj = tf.convert_to_tensor(adj, dtype=tf.float32)\n",
        "features = features.astype('float32')\n",
        "adj = adj.astype('float32')"
      ],
      "metadata": {
        "id": "wYlf_NTMwOIj"
      },
      "execution_count": 10,
      "outputs": []
    },
    {
      "cell_type": "code",
      "source": [
        "print(\"No of training  dataset = \",np.sum(train_mask))\n",
        "print(\"No of validation  dataset = \",np.sum(validation_mask))\n",
        "print(\"No of test  dataset = \",np.sum(test_mask))\n",
        "print(\"No of features = \",features.shape[1])"
      ],
      "metadata": {
        "colab": {
          "base_uri": "https://localhost:8080/"
        },
        "id": "wW9Gtz6FxCky",
        "outputId": "44856dd9-3011-468a-b9d1-e5582887d6cb"
      },
      "execution_count": 11,
      "outputs": [
        {
          "output_type": "stream",
          "name": "stdout",
          "text": [
            "No of training  dataset =  140\n",
            "No of validation  dataset =  500\n",
            "No of test  dataset =  1000\n",
            "No of features =  1433\n"
          ]
        }
      ]
    },
    {
      "cell_type": "code",
      "source": [
        "#helper functions \n",
        "def compute_masked_cross_entropy_loss(predicted,labels,mask):\n",
        "    loss = tf.nn.softmax_cross_entropy_with_logits(logits=predicted, labels=labels)\n",
        "    mask = tf.cast(mask,dtype=tf.float32)\n",
        "    mask = mask / tf.reduce_mean(mask)\n",
        "    loss = loss * mask\n",
        "    return tf.reduce_mean(loss)\n",
        "def compute_masked_accuracy(predicted,gt_label,mask):\n",
        "    correct_predicted = tf.equal(tf.argmax(predicted,axis= 1),tf.argmax(gt_label,axis= 1))\n",
        "    correct_predicted = tf.cast(correct_predicted,dtype= tf.float32)\n",
        "    mask = tf.cast(mask,dtype= tf.float32)\n",
        "    mask = mask / tf.reduce_mean(mask)\n",
        "    correct_predicted = correct_predicted * mask\n",
        "    return tf.reduce_mean(correct_predicted)"
      ],
      "metadata": {
        "id": "qnJVeUqbybwB"
      },
      "execution_count": 12,
      "outputs": []
    },
    {
      "cell_type": "code",
      "source": [
        "def gnn(features, adj, transform, activation):\n",
        "    int_feature = transform(features)\n",
        "    segregrate_feature = tf.matmul(adj,int_feature)\n",
        "    return activation(segregrate_feature)"
      ],
      "metadata": {
        "id": "-UmqxrTg2Hv1"
      },
      "execution_count": 13,
      "outputs": []
    },
    {
      "cell_type": "code",
      "source": [
        "from tensorflow.python.keras import optimizers\n",
        "def train(features,adjacency,gnn_fn,units,epochs,lr):\n",
        "    lyr_1 = tf.keras.layers.Dense(units)\n",
        "    lyr_2 = tf.keras.layers.Dense(7)\n",
        "    def cora_gnn(features,adjacency):\n",
        "        hidden_layer1 = gnn_fn(features,adjacency,lyr_1,tf.nn.relu)\n",
        "        output = gnn_fn(hidden_layer1,adjacency,lyr_2,tf.identity)\n",
        "        return output\n",
        "    optim = tf.keras.optimizers.Adam(learning_rate=lr)\n",
        "    best_score = 0.0\n",
        "    for epoch in range(0,epochs):\n",
        "        with tf.GradientTape() as tg:\n",
        "            predicted = cora_gnn(features,adjacency)\n",
        "            loss = compute_masked_cross_entropy_loss(predicted,labels,train_mask)\n",
        "        variables = tg.watched_variables()\n",
        "        grads = tg.gradient(loss,variables)\n",
        "        optim.apply_gradients(zip(grads,variables))\n",
        "        predicted = cora_gnn(features,adjacency)\n",
        "        val_score = compute_masked_accuracy(predicted,labels,validation_mask)\n",
        "        if(val_score > best_score):\n",
        "            best_score = val_score\n",
        "            test_score = compute_masked_accuracy(predicted,labels,test_mask)\n",
        "            print(\"Epoch = \",epoch,\" Train loss = \",loss.numpy(),\" Validation accuracy = \",val_score.numpy()\n",
        "                  , \" Test Accuracy = \",test_score.numpy())"
      ],
      "metadata": {
        "id": "puUtaFeA3WA4"
      },
      "execution_count": 14,
      "outputs": []
    },
    {
      "cell_type": "code",
      "source": [
        "train(features,adj,gnn,32,200,0.01)"
      ],
      "metadata": {
        "colab": {
          "base_uri": "https://localhost:8080/"
        },
        "id": "RduFYAbb-1gd",
        "outputId": "da8d58ac-5846-4680-c519-a72433ef280f"
      },
      "execution_count": 15,
      "outputs": [
        {
          "output_type": "stream",
          "name": "stdout",
          "text": [
            "Epoch =  0  Train loss =  2.0721896  Validation accuracy =  0.22399999  Test Accuracy =  0.24599999\n",
            "Epoch =  1  Train loss =  1.7766834  Validation accuracy =  0.42599997  Test Accuracy =  0.44899994\n",
            "Epoch =  3  Train loss =  1.5689648  Validation accuracy =  0.518  Test Accuracy =  0.503\n",
            "Epoch =  4  Train loss =  1.395454  Validation accuracy =  0.608  Test Accuracy =  0.593\n",
            "Epoch =  5  Train loss =  1.2508626  Validation accuracy =  0.678  Test Accuracy =  0.68299997\n",
            "Epoch =  6  Train loss =  1.12273  Validation accuracy =  0.714  Test Accuracy =  0.74499995\n",
            "Epoch =  7  Train loss =  1.0080339  Validation accuracy =  0.724  Test Accuracy =  0.76400006\n",
            "Epoch =  8  Train loss =  0.9256463  Validation accuracy =  0.73199993  Test Accuracy =  0.77000004\n",
            "Epoch =  9  Train loss =  0.8671585  Validation accuracy =  0.73999995  Test Accuracy =  0.779\n",
            "Epoch =  10  Train loss =  0.7925489  Validation accuracy =  0.75999993  Test Accuracy =  0.79099995\n",
            "Epoch =  11  Train loss =  0.72351336  Validation accuracy =  0.766  Test Accuracy =  0.7859999\n",
            "Epoch =  33  Train loss =  0.11851759  Validation accuracy =  0.76600003  Test Accuracy =  0.75999993\n",
            "Epoch =  37  Train loss =  0.089697585  Validation accuracy =  0.76799995  Test Accuracy =  0.759\n",
            "Epoch =  38  Train loss =  0.0838121  Validation accuracy =  0.77  Test Accuracy =  0.76000005\n",
            "Epoch =  39  Train loss =  0.07844665  Validation accuracy =  0.77199996  Test Accuracy =  0.763\n",
            "Epoch =  40  Train loss =  0.073562324  Validation accuracy =  0.77599996  Test Accuracy =  0.76400006\n",
            "Epoch =  41  Train loss =  0.06908825  Validation accuracy =  0.778  Test Accuracy =  0.76400006\n",
            "Epoch =  42  Train loss =  0.064904734  Validation accuracy =  0.78  Test Accuracy =  0.76500005\n"
          ]
        }
      ]
    },
    {
      "cell_type": "code",
      "source": [
        "#mean pooling gcc \n",
        "# adj = tf.cast(adj,dtype=tf.float32)\n",
        "# deg = tf.reduce_mean(adj,axis =-1)\n",
        "# deg = tf.cast(deg,dtype=tf.float32)\n",
        "# mean_adj = tf.math.divide(adj, deg)\n",
        "deg = tf.reduce_mean(adj,axis =-1)\n",
        "# mean_adj = tf.math.divide(adj, deg)\n",
        "train(features,adj/deg,gnn,32,200,0.01)"
      ],
      "metadata": {
        "colab": {
          "base_uri": "https://localhost:8080/"
        },
        "id": "m4paYvsIAavL",
        "outputId": "48315717-a6a5-4847-b241-e49cfdce2b18"
      },
      "execution_count": 17,
      "outputs": [
        {
          "output_type": "stream",
          "name": "stdout",
          "text": [
            "Epoch =  0  Train loss =  42869.117  Validation accuracy =  0.156  Test Accuracy =  0.154\n",
            "Epoch =  1  Train loss =  77384.07  Validation accuracy =  0.232  Test Accuracy =  0.235\n",
            "Epoch =  2  Train loss =  68750.34  Validation accuracy =  0.278  Test Accuracy =  0.25699997\n",
            "Epoch =  3  Train loss =  58334.027  Validation accuracy =  0.38199997  Test Accuracy =  0.38999996\n",
            "Epoch =  4  Train loss =  25938.7  Validation accuracy =  0.482  Test Accuracy =  0.505\n",
            "Epoch =  7  Train loss =  4971.3613  Validation accuracy =  0.51000005  Test Accuracy =  0.523\n",
            "Epoch =  9  Train loss =  2116.0164  Validation accuracy =  0.52199996  Test Accuracy =  0.54599994\n",
            "Epoch =  10  Train loss =  1638.8682  Validation accuracy =  0.598  Test Accuracy =  0.60899997\n",
            "Epoch =  11  Train loss =  637.4615  Validation accuracy =  0.642  Test Accuracy =  0.65099996\n",
            "Epoch =  12  Train loss =  355.74527  Validation accuracy =  0.658  Test Accuracy =  0.67599994\n",
            "Epoch =  13  Train loss =  69.256165  Validation accuracy =  0.65999997  Test Accuracy =  0.68299997\n",
            "Epoch =  14  Train loss =  264.7135  Validation accuracy =  0.668  Test Accuracy =  0.69200003\n",
            "Epoch =  15  Train loss =  97.555275  Validation accuracy =  0.67  Test Accuracy =  0.68799996\n",
            "Epoch =  17  Train loss =  49.40697  Validation accuracy =  0.678  Test Accuracy =  0.696\n",
            "Epoch =  18  Train loss =  23.486134  Validation accuracy =  0.68  Test Accuracy =  0.705\n",
            "Epoch =  20  Train loss =  0.0  Validation accuracy =  0.682  Test Accuracy =  0.70699996\n",
            "Epoch =  21  Train loss =  15.170564  Validation accuracy =  0.686  Test Accuracy =  0.71\n",
            "Epoch =  23  Train loss =  0.0  Validation accuracy =  0.688  Test Accuracy =  0.71099997\n",
            "Epoch =  24  Train loss =  1.0734934  Validation accuracy =  0.698  Test Accuracy =  0.70799994\n",
            "Epoch =  71  Train loss =  0.0  Validation accuracy =  0.6999999  Test Accuracy =  0.716\n",
            "Epoch =  74  Train loss =  6.270494  Validation accuracy =  0.7  Test Accuracy =  0.72499996\n",
            "Epoch =  75  Train loss =  0.0  Validation accuracy =  0.70199996  Test Accuracy =  0.727\n",
            "Epoch =  83  Train loss =  0.0  Validation accuracy =  0.70399994  Test Accuracy =  0.721\n",
            "Epoch =  84  Train loss =  0.0  Validation accuracy =  0.70799994  Test Accuracy =  0.72099996\n",
            "Epoch =  85  Train loss =  0.0  Validation accuracy =  0.71  Test Accuracy =  0.72199994\n",
            "Epoch =  92  Train loss =  0.0  Validation accuracy =  0.71199995  Test Accuracy =  0.723\n"
          ]
        }
      ]
    },
    {
      "cell_type": "code",
      "source": [
        "norm_deg = tf.linalg.diag(1.0 / tf.sqrt(deg))\n",
        "norm_adj = tf.matmul(norm_deg,tf.matmul(adj,norm_deg))\n",
        "train(features,norm_adj,gnn,32,200,0.01)"
      ],
      "metadata": {
        "colab": {
          "base_uri": "https://localhost:8080/"
        },
        "id": "4Ycuqfo-BuwM",
        "outputId": "846d87c4-4be9-4c27-c7a5-20c327767063"
      },
      "execution_count": 19,
      "outputs": [
        {
          "output_type": "stream",
          "name": "stdout",
          "text": [
            "Epoch =  0  Train loss =  53709.945  Validation accuracy =  0.14799999  Test Accuracy =  0.166\n",
            "Epoch =  1  Train loss =  64370.855  Validation accuracy =  0.26999998  Test Accuracy =  0.325\n",
            "Epoch =  2  Train loss =  88134.59  Validation accuracy =  0.31999996  Test Accuracy =  0.346\n",
            "Epoch =  3  Train loss =  87549.9  Validation accuracy =  0.482  Test Accuracy =  0.50999993\n"
          ]
        }
      ]
    }
  ]
}